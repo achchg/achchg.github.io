{
 "cells": [
  {
   "cell_type": "markdown",
   "id": "1c3f70ed",
   "metadata": {},
   "source": [
    "## word2vec in code\n",
    "Packages used:\n",
    "1. `gensim.word2vec`: https://radimrehurek.com/gensim/models/word2vec.html The Gensim documentation is very nicely written.\n",
    "\n",
    "2. `pymed`: https://github.com/gijswobben/pymed\n",
    "\n",
    "I'd like to make a word2vec model on pubmed articles' keywords with the first 5000 `Neonicotinoids` qurery."
   ]
  },
  {
   "cell_type": "code",
   "execution_count": 1,
   "id": "44bc50b0",
   "metadata": {
    "scrolled": false
   },
   "outputs": [],
   "source": [
    "import pandas as pd\n",
    "from pymed import PubMed\n",
    "import numpy as np\n",
    "from gensim.models import Word2Vec\n",
    "import inspect\n",
    "# print(inspect.getsource(Word2Vec))"
   ]
  },
  {
   "cell_type": "markdown",
   "id": "d4b8ec62",
   "metadata": {},
   "source": [
    "### Pubmed API call for querying keywords of neonicotinoids associated articles\n",
    "\n",
    "Below code cited and modified from https://stackoverflow.com/questions/72006411/pubmed-fetch-article-details-to-a-daframe"
   ]
  },
  {
   "cell_type": "code",
   "execution_count": 2,
   "id": "2f9f3a73",
   "metadata": {},
   "outputs": [],
   "source": [
    "search_term = 'Neonicotinoids'\n",
    "max_results = 5000\n",
    "\n",
    "def pubmed_searcher(search_term, max_results):\n",
    "    '''\n",
    "    Search max_results # of Pubmed articles with the query (search_term)\n",
    "    '''\n",
    "    pubmed = PubMed(tool=\"PubMedSearcher\", email=\"myemail@ccc.com\")\n",
    "\n",
    "    ## PUT YOUR SEARCH TERM HERE ##\n",
    "    results = pubmed.query(search_term, max_results)\n",
    "    articleList = []\n",
    "    articleInfo = []\n",
    "\n",
    "    for article in results:\n",
    "\n",
    "    # Print the type of object we've found (can be either PubMedBookArticle or PubMedArticle).\n",
    "    # We need to convert it to dictionary with available function\n",
    "        articleDict = article.toDict()\n",
    "        articleList.append(articleDict)\n",
    "\n",
    "    # Generate list of dict records which will hold all article details that could be fetch from PUBMED API\n",
    "    for article in articleList:\n",
    "        \n",
    "    #Sometimes article['pubmed_id'] contains list separated with comma - take first pubmedId in that list - thats article pubmedId\n",
    "        pubmedId = article['pubmed_id'].partition('\\n')[0]\n",
    "        \n",
    "        # Append article info to dictionary\n",
    "        if 'keywords' in article.keys() and len(article['keywords']) != 0:\n",
    "            articleInfo.append({u'pubmed_id':pubmedId,\n",
    "                                u'publication_date':article['publication_date'], \n",
    "                                u'authors':article['authors'],\n",
    "                                u'keywords':article['keywords']})\n",
    "            \n",
    "    print('available keys from pubmed API: ' + str(article.keys()))\n",
    "    \n",
    "    df=pd.json_normalize(articleInfo)\n",
    "    \n",
    "    return df\n"
   ]
  },
  {
   "cell_type": "code",
   "execution_count": 3,
   "id": "8e4b7cd3",
   "metadata": {},
   "outputs": [
    {
     "name": "stdout",
     "output_type": "stream",
     "text": [
      "available keys from pubmed API: dict_keys(['pubmed_id', 'title', 'abstract', 'keywords', 'journal', 'publication_date', 'authors', 'methods', 'conclusions', 'results', 'copyrights', 'doi', 'xml'])\n"
     ]
    },
    {
     "data": {
      "text/html": [
       "<div>\n",
       "<style scoped>\n",
       "    .dataframe tbody tr th:only-of-type {\n",
       "        vertical-align: middle;\n",
       "    }\n",
       "\n",
       "    .dataframe tbody tr th {\n",
       "        vertical-align: top;\n",
       "    }\n",
       "\n",
       "    .dataframe thead th {\n",
       "        text-align: right;\n",
       "    }\n",
       "</style>\n",
       "<table border=\"1\" class=\"dataframe\">\n",
       "  <thead>\n",
       "    <tr style=\"text-align: right;\">\n",
       "      <th></th>\n",
       "      <th>pubmed_id</th>\n",
       "      <th>publication_date</th>\n",
       "      <th>authors</th>\n",
       "      <th>keywords</th>\n",
       "    </tr>\n",
       "  </thead>\n",
       "  <tbody>\n",
       "    <tr>\n",
       "      <th>0</th>\n",
       "      <td>36149570</td>\n",
       "      <td>2022-09-24</td>\n",
       "      <td>[{'lastname': 'Zhou', 'firstname': 'Hong-Xia',...</td>\n",
       "      <td>[Floral nectar, Neonicotinoid, Pollinators, Sa...</td>\n",
       "    </tr>\n",
       "    <tr>\n",
       "      <th>1</th>\n",
       "      <td>36144866</td>\n",
       "      <td>2022-09-24</td>\n",
       "      <td>[{'lastname': 'Lu', 'firstname': 'Xingxing', '...</td>\n",
       "      <td>[Flupyrimin derivatives, low bee-toxicity, mol...</td>\n",
       "    </tr>\n",
       "    <tr>\n",
       "      <th>2</th>\n",
       "      <td>36140100</td>\n",
       "      <td>2022-09-24</td>\n",
       "      <td>[{'lastname': 'Jiao', 'firstname': 'Shasha', '...</td>\n",
       "      <td>[broad-specific mAb, immunochromatography, neo...</td>\n",
       "    </tr>\n",
       "    <tr>\n",
       "      <th>3</th>\n",
       "      <td>36127060</td>\n",
       "      <td>2022-09-21</td>\n",
       "      <td>[{'lastname': 'Zhang', 'firstname': 'Bai-Zhong...</td>\n",
       "      <td>[Imidacloprid resistance, Sitobion miscanthi, ...</td>\n",
       "    </tr>\n",
       "    <tr>\n",
       "      <th>4</th>\n",
       "      <td>36127049</td>\n",
       "      <td>2022-09-21</td>\n",
       "      <td>[{'lastname': 'Mezei', 'firstname': 'Imre', 'i...</td>\n",
       "      <td>[Green peach aphid, Insecticide and neonicotin...</td>\n",
       "    </tr>\n",
       "  </tbody>\n",
       "</table>\n",
       "</div>"
      ],
      "text/plain": [
       "  pubmed_id publication_date  \\\n",
       "0  36149570       2022-09-24   \n",
       "1  36144866       2022-09-24   \n",
       "2  36140100       2022-09-24   \n",
       "3  36127060       2022-09-21   \n",
       "4  36127049       2022-09-21   \n",
       "\n",
       "                                             authors  \\\n",
       "0  [{'lastname': 'Zhou', 'firstname': 'Hong-Xia',...   \n",
       "1  [{'lastname': 'Lu', 'firstname': 'Xingxing', '...   \n",
       "2  [{'lastname': 'Jiao', 'firstname': 'Shasha', '...   \n",
       "3  [{'lastname': 'Zhang', 'firstname': 'Bai-Zhong...   \n",
       "4  [{'lastname': 'Mezei', 'firstname': 'Imre', 'i...   \n",
       "\n",
       "                                            keywords  \n",
       "0  [Floral nectar, Neonicotinoid, Pollinators, Sa...  \n",
       "1  [Flupyrimin derivatives, low bee-toxicity, mol...  \n",
       "2  [broad-specific mAb, immunochromatography, neo...  \n",
       "3  [Imidacloprid resistance, Sitobion miscanthi, ...  \n",
       "4  [Green peach aphid, Insecticide and neonicotin...  "
      ]
     },
     "execution_count": 3,
     "metadata": {},
     "output_type": "execute_result"
    }
   ],
   "source": [
    "# Example output\n",
    "df = pubmed_searcher(search_term, max_results)\n",
    "df.head()"
   ]
  },
  {
   "cell_type": "markdown",
   "id": "e90b28ab",
   "metadata": {},
   "source": [
    "We see that the keywords were in both upper and lower cases terms. Therefore, make simple pre-processing here to lowercase every word."
   ]
  },
  {
   "cell_type": "code",
   "execution_count": 4,
   "id": "2122bb46",
   "metadata": {},
   "outputs": [
    {
     "data": {
      "text/html": [
       "<div>\n",
       "<style scoped>\n",
       "    .dataframe tbody tr th:only-of-type {\n",
       "        vertical-align: middle;\n",
       "    }\n",
       "\n",
       "    .dataframe tbody tr th {\n",
       "        vertical-align: top;\n",
       "    }\n",
       "\n",
       "    .dataframe thead th {\n",
       "        text-align: right;\n",
       "    }\n",
       "</style>\n",
       "<table border=\"1\" class=\"dataframe\">\n",
       "  <thead>\n",
       "    <tr style=\"text-align: right;\">\n",
       "      <th></th>\n",
       "      <th>pubmed_id</th>\n",
       "      <th>publication_date</th>\n",
       "      <th>authors</th>\n",
       "      <th>keywords</th>\n",
       "    </tr>\n",
       "  </thead>\n",
       "  <tbody>\n",
       "    <tr>\n",
       "      <th>0</th>\n",
       "      <td>36149570</td>\n",
       "      <td>2022-09-24</td>\n",
       "      <td>[{'lastname': 'Zhou', 'firstname': 'Hong-Xia',...</td>\n",
       "      <td>[floral nectar, neonicotinoid, pollinators, sa...</td>\n",
       "    </tr>\n",
       "    <tr>\n",
       "      <th>1</th>\n",
       "      <td>36144866</td>\n",
       "      <td>2022-09-24</td>\n",
       "      <td>[{'lastname': 'Lu', 'firstname': 'Xingxing', '...</td>\n",
       "      <td>[flupyrimin derivatives, low bee-toxicity, mol...</td>\n",
       "    </tr>\n",
       "    <tr>\n",
       "      <th>2</th>\n",
       "      <td>36140100</td>\n",
       "      <td>2022-09-24</td>\n",
       "      <td>[{'lastname': 'Jiao', 'firstname': 'Shasha', '...</td>\n",
       "      <td>[broad-specific mab, immunochromatography, neo...</td>\n",
       "    </tr>\n",
       "    <tr>\n",
       "      <th>3</th>\n",
       "      <td>36127060</td>\n",
       "      <td>2022-09-21</td>\n",
       "      <td>[{'lastname': 'Zhang', 'firstname': 'Bai-Zhong...</td>\n",
       "      <td>[imidacloprid resistance, sitobion miscanthi, ...</td>\n",
       "    </tr>\n",
       "    <tr>\n",
       "      <th>4</th>\n",
       "      <td>36127049</td>\n",
       "      <td>2022-09-21</td>\n",
       "      <td>[{'lastname': 'Mezei', 'firstname': 'Imre', 'i...</td>\n",
       "      <td>[green peach aphid, insecticide and neonicotin...</td>\n",
       "    </tr>\n",
       "  </tbody>\n",
       "</table>\n",
       "</div>"
      ],
      "text/plain": [
       "  pubmed_id publication_date  \\\n",
       "0  36149570       2022-09-24   \n",
       "1  36144866       2022-09-24   \n",
       "2  36140100       2022-09-24   \n",
       "3  36127060       2022-09-21   \n",
       "4  36127049       2022-09-21   \n",
       "\n",
       "                                             authors  \\\n",
       "0  [{'lastname': 'Zhou', 'firstname': 'Hong-Xia',...   \n",
       "1  [{'lastname': 'Lu', 'firstname': 'Xingxing', '...   \n",
       "2  [{'lastname': 'Jiao', 'firstname': 'Shasha', '...   \n",
       "3  [{'lastname': 'Zhang', 'firstname': 'Bai-Zhong...   \n",
       "4  [{'lastname': 'Mezei', 'firstname': 'Imre', 'i...   \n",
       "\n",
       "                                            keywords  \n",
       "0  [floral nectar, neonicotinoid, pollinators, sa...  \n",
       "1  [flupyrimin derivatives, low bee-toxicity, mol...  \n",
       "2  [broad-specific mab, immunochromatography, neo...  \n",
       "3  [imidacloprid resistance, sitobion miscanthi, ...  \n",
       "4  [green peach aphid, insecticide and neonicotin...  "
      ]
     },
     "execution_count": 4,
     "metadata": {},
     "output_type": "execute_result"
    }
   ],
   "source": [
    "df['keywords'] = df['keywords'].apply(lambda x: [word.lower() if word is not None else word for word in x])\n",
    "# df['keywords'] = df['keywords'].apply(lambda x: [word.split(' ') if word is not None else word for word in x])\n",
    "# df['keywords'] = df['keywords'].apply(lambda x: sum([word if word is not None else [] for word in x], []))\n",
    "# df['keywords'] = df['keywords'].apply(lambda x: [word if word is not '' else word for word in x])\n",
    "df.head()"
   ]
  },
  {
   "cell_type": "markdown",
   "id": "162f237b",
   "metadata": {},
   "source": [
    "Build a word2vec model baseline with the keywords as the `sentences`. The default model is a CBOW model:"
   ]
  },
  {
   "cell_type": "code",
   "execution_count": 5,
   "id": "42c2418a",
   "metadata": {},
   "outputs": [],
   "source": [
    "cbow_model = Word2Vec(sentences=df['keywords'], vector_size=100, window=5, min_count=1, workers=4)"
   ]
  },
  {
   "cell_type": "code",
   "execution_count": 6,
   "id": "bfb99737",
   "metadata": {},
   "outputs": [
    {
     "data": {
      "text/plain": [
       "5746"
      ]
     },
     "execution_count": 6,
     "metadata": {},
     "output_type": "execute_result"
    }
   ],
   "source": [
    "# print out number of unique keywords in this corpus\n",
    "len(cbow_model.wv)"
   ]
  },
  {
   "cell_type": "code",
   "execution_count": 7,
   "id": "dcaaa2fe",
   "metadata": {
    "scrolled": true
   },
   "outputs": [
    {
     "data": {
      "text/plain": [
       "[('imidacloprid', 0),\n",
       " ('neonicotinoids', 1),\n",
       " ('neonicotinoid', 2),\n",
       " ('thiamethoxam', 3),\n",
       " ('pesticides', 4),\n",
       " ('acetamiprid', 5),\n",
       " ('clothianidin', 6),\n",
       " ('insecticide', 7),\n",
       " ('pesticide', 8),\n",
       " ('oxidative stress', 9),\n",
       " ('risk assessment', 10)]"
      ]
     },
     "execution_count": 7,
     "metadata": {},
     "output_type": "execute_result"
    }
   ],
   "source": [
    "# print out first 10 keywords and their mapping in the word vector\n",
    "[(key, value) for key, value in cbow_model.wv.key_to_index.items() if value < 11 ]"
   ]
  },
  {
   "cell_type": "code",
   "execution_count": 8,
   "id": "bf2c16ee",
   "metadata": {},
   "outputs": [
    {
     "data": {
      "text/plain": [
       "array([-5.40593034e-03,  1.15888966e-02,  8.43298808e-03,  1.31010190e-02,\n",
       "       -4.03585657e-03, -2.18122415e-02,  1.20129082e-02,  3.46110687e-02,\n",
       "       -1.87167116e-02, -9.20154154e-03,  3.12844943e-03, -2.18708999e-02,\n",
       "       -7.95106310e-03,  1.29893012e-02,  1.78413186e-03, -1.42300595e-02,\n",
       "        1.24159968e-02, -5.62345563e-03, -1.03669940e-02, -2.89037786e-02,\n",
       "        1.36500588e-02,  6.95272116e-03,  1.91477295e-02, -3.36500071e-03,\n",
       "        9.90599673e-03, -9.25304368e-04, -5.56671061e-03,  4.97595686e-03,\n",
       "       -2.01655030e-02, -5.28744538e-04,  5.34750288e-03,  1.04849823e-04,\n",
       "        9.88434535e-03, -2.45723110e-02, -8.71593598e-03,  5.79477614e-03,\n",
       "        1.12880385e-02, -1.13384482e-02, -2.05988670e-03, -1.97763313e-02,\n",
       "       -7.68292416e-03, -8.54059402e-03, -1.87690835e-02, -1.27834384e-03,\n",
       "        7.36738276e-03, -7.90740084e-03, -1.90359708e-02,  9.00849141e-03,\n",
       "        1.04246465e-02,  1.78031195e-02,  9.97503157e-05, -6.99138548e-03,\n",
       "       -8.93480144e-03, -1.62486907e-03,  4.32711880e-04,  3.47600027e-04,\n",
       "        1.35904551e-02, -1.09396102e-02, -1.19838547e-02,  1.37601309e-02,\n",
       "       -5.37068443e-03,  5.51604014e-03, -6.47990592e-03, -7.45656062e-03,\n",
       "       -9.97344870e-03,  1.73724350e-02,  7.23638386e-03,  1.43037774e-02,\n",
       "       -1.56103866e-02,  1.14277704e-02,  6.04776619e-03,  2.15912219e-02,\n",
       "        1.14463223e-02, -1.36494972e-02,  1.57693420e-02,  8.32852535e-03,\n",
       "        1.22180963e-02,  2.54873943e-04, -1.02942577e-02, -1.23140430e-02,\n",
       "       -1.28244525e-02, -8.74213292e-04, -1.11835008e-03,  1.47613259e-02,\n",
       "       -1.09673943e-02, -3.26604895e-05,  8.86271335e-03,  2.11685583e-05,\n",
       "        1.10052228e-02,  1.09062297e-02,  1.53498156e-02,  5.07854903e-03,\n",
       "        9.96456947e-03, -8.85947607e-04,  2.80847307e-02,  1.36877792e-02,\n",
       "       -2.94841849e-03, -1.60499364e-02,  2.35166075e-03,  1.24894716e-02],\n",
       "      dtype=float32)"
      ]
     },
     "execution_count": 8,
     "metadata": {},
     "output_type": "execute_result"
    }
   ],
   "source": [
    "vector = cbow_model.wv['imidacloprid']  # get numpy vector of a word\n",
    "vector"
   ]
  },
  {
   "cell_type": "markdown",
   "id": "d1fb19aa",
   "metadata": {},
   "source": [
    "Neonicotinoids popped up as the toppest related word alongside neonicotinoids as a keyword, which makes sense as imidacloprid is a chemical compound part of the neonicotinoids family. "
   ]
  },
  {
   "cell_type": "code",
   "execution_count": 9,
   "id": "6fb23dcc",
   "metadata": {},
   "outputs": [
    {
     "data": {
      "text/plain": [
       "[('neonicotinoids', 0.7829824686050415),\n",
       " ('neonicotinoid', 0.7474757432937622),\n",
       " ('pesticides', 0.6899251937866211),\n",
       " ('insecticides', 0.6350824236869812),\n",
       " ('insecticide', 0.6348559260368347),\n",
       " ('clothianidin', 0.6332234740257263),\n",
       " ('pesticide', 0.6209536194801331),\n",
       " ('neonicotinoid insecticides', 0.6012749671936035),\n",
       " ('acetamiprid', 0.5999992489814758),\n",
       " ('oxidative stress', 0.5961906313896179)]"
      ]
     },
     "execution_count": 9,
     "metadata": {},
     "output_type": "execute_result"
    }
   ],
   "source": [
    "sims = cbow_model.wv.most_similar('imidacloprid', topn=10)  # get other similar words\n",
    "sims"
   ]
  },
  {
   "cell_type": "code",
   "execution_count": 10,
   "id": "dd06c660",
   "metadata": {},
   "outputs": [],
   "source": [
    "skip_gram_model = Word2Vec(sentences=df['keywords'], vector_size=100, window=5, min_count=1, workers=4, sg=1)"
   ]
  },
  {
   "cell_type": "code",
   "execution_count": 11,
   "id": "34dd87fd",
   "metadata": {},
   "outputs": [
    {
     "data": {
      "text/plain": [
       "array([-0.05299078,  0.07829338,  0.07447132,  0.02108439,  0.00597955,\n",
       "       -0.06380751,  0.0301357 ,  0.14573403, -0.09605741, -0.02828232,\n",
       "       -0.02943823, -0.12244009, -0.00080855,  0.04335691,  0.05463602,\n",
       "       -0.0572549 ,  0.06403438, -0.02601936,  0.0023799 , -0.13929603,\n",
       "        0.05880679,  0.02052441,  0.10127067, -0.04167465,  0.02516998,\n",
       "        0.00175928, -0.05085333, -0.01591752, -0.05303929, -0.00647691,\n",
       "        0.05200607,  0.00078895,  0.00399932, -0.09744287, -0.00562432,\n",
       "        0.02841873,  0.01386285, -0.01645965,  0.00830765, -0.095583  ,\n",
       "        0.00058756, -0.07347596, -0.06742942,  0.00739888,  0.02853376,\n",
       "       -0.04295408, -0.09183193,  0.00756953,  0.03483294,  0.04236066,\n",
       "        0.04897863, -0.05266525, -0.05966743, -0.02183077, -0.02638467,\n",
       "        0.04107733,  0.05603094, -0.01519084, -0.05776702,  0.01266443,\n",
       "        0.00205501,  0.01886354,  0.00732932,  0.00023657, -0.05240031,\n",
       "        0.08751692,  0.04117076,  0.06144652, -0.0452157 ,  0.08541027,\n",
       "       -0.0029947 ,  0.06000796,  0.06622167, -0.02393184,  0.06498449,\n",
       "        0.0497634 ,  0.02419006,  0.01419985, -0.06615037, -0.01855366,\n",
       "       -0.03744638, -0.02977936, -0.02253129,  0.07845379, -0.02310302,\n",
       "       -0.00893291,  0.02881726,  0.04085868,  0.04278832,  0.01011063,\n",
       "        0.07867123,  0.02918122,  0.02626589,  0.01509662,  0.14094794,\n",
       "        0.07667174,  0.0447276 , -0.06152527, -0.00958356,  0.04505198],\n",
       "      dtype=float32)"
      ]
     },
     "execution_count": 11,
     "metadata": {},
     "output_type": "execute_result"
    }
   ],
   "source": [
    "vector = skip_gram_model.wv['imidacloprid']  # get numpy vector of a word\n",
    "vector"
   ]
  },
  {
   "cell_type": "code",
   "execution_count": 12,
   "id": "c2472148",
   "metadata": {},
   "outputs": [
    {
     "data": {
      "text/plain": [
       "[('neonicotinoids', 0.9888986349105835),\n",
       " ('neonicotinoid', 0.9860737919807434),\n",
       " ('pesticides', 0.9816869497299194),\n",
       " ('pesticide', 0.9788960218429565),\n",
       " ('oxidative stress', 0.978755533695221),\n",
       " ('insecticide', 0.9768159985542297),\n",
       " ('insecticides', 0.9750504493713379),\n",
       " ('neonicotinoid insecticides', 0.974653422832489),\n",
       " ('clothianidin', 0.9737851619720459),\n",
       " ('thiamethoxam', 0.9717853665351868)]"
      ]
     },
     "execution_count": 12,
     "metadata": {},
     "output_type": "execute_result"
    }
   ],
   "source": [
    "sims = skip_gram_model.wv.most_similar('imidacloprid', topn=10)  # get other similar words\n",
    "sims"
   ]
  }
 ],
 "metadata": {
  "kernelspec": {
   "display_name": "cs224n",
   "language": "python",
   "name": "cs224n"
  },
  "language_info": {
   "codemirror_mode": {
    "name": "ipython",
    "version": 3
   },
   "file_extension": ".py",
   "mimetype": "text/x-python",
   "name": "python",
   "nbconvert_exporter": "python",
   "pygments_lexer": "ipython3",
   "version": "3.7.11"
  }
 },
 "nbformat": 4,
 "nbformat_minor": 5
}
